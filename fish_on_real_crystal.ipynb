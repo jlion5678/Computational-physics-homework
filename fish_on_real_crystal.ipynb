{
  "nbformat": 4,
  "nbformat_minor": 0,
  "metadata": {
    "colab": {
      "provenance": [],
      "include_colab_link": true
    },
    "kernelspec": {
      "name": "python3",
      "display_name": "Python 3"
    },
    "language_info": {
      "name": "python"
    }
  },
  "cells": [
    {
      "cell_type": "markdown",
      "metadata": {
        "id": "view-in-github",
        "colab_type": "text"
      },
      "source": [
        "<a href=\"https://colab.research.google.com/github/jlion5678/Computational-physics-homework/blob/main/fish_on_real_crystal.ipynb\" target=\"_parent\"><img src=\"https://colab.research.google.com/assets/colab-badge.svg\" alt=\"Open In Colab\"/></a>"
      ]
    },
    {
      "cell_type": "code",
      "execution_count": 6,
      "metadata": {
        "colab": {
          "base_uri": "https://localhost:8080/"
        },
        "id": "X-_P1lRheu7P",
        "outputId": "9264810c-e6af-45f3-c7c5-d59670ef4df1"
      },
      "outputs": [
        {
          "output_type": "stream",
          "name": "stdout",
          "text": [
            "Mounted at /content/drive\n",
            "Calculated Bounds for Each Dimension:\n",
            "[[  1.621  84.27 ]\n",
            " [-20.     17.93 ]\n",
            " [-41.37   42.61 ]\n",
            " [  0.      0.   ]\n",
            " [  3.215  90.53 ]\n",
            " [-23.85  141.7  ]\n",
            " [  0.      0.   ]\n",
            " [  0.      0.   ]\n",
            " [  3.704  66.77 ]]\n",
            "-153.5799\n",
            "Matrix Loaded from File:\n",
            "[ 4.961e+00  6.140e-16 -3.787e+00  0.000e+00  1.864e+01  4.770e-15\n",
            "  0.000e+00  0.000e+00  6.941e+00]\n"
          ]
        }
      ],
      "source": [
        "# Step 1: Mount Google Drive to access your files\n",
        "from google.colab import drive\n",
        "drive.mount('/content/drive')\n",
        "\n",
        "# Step 2: Import necessary libraries\n",
        "import numpy as np\n",
        "\n",
        "# Step 3: Define the path to your .txt file\n",
        "# You can find the path after mounting your Google Drive.\n",
        "# Make sure to adjust the path based on where your file is located in Drive.\n",
        "file_path = '/content/drive/MyDrive/crystal data/5A_parsed_file.txt'\n",
        "\n",
        "# Step 4: Load the .txt file into a NumPy array\n",
        "# Assuming the file is space-separated, but adjust delimiter if needed\n",
        "matrix = np.loadtxt(file_path)\n",
        "\n",
        "coordinates = matrix[:, 1:]  # Extract all rows except the first\n",
        "bounds = np.array([[np.min(coordinates[:, i]), np.max(coordinates[:, i])] for i in range(coordinates.shape[1])])\n",
        "\n",
        "# Step 6: Display the calculated bounds\n",
        "print(\"Calculated Bounds for Each Dimension:\")\n",
        "print(bounds)\n",
        "\n",
        "# Step 5: Display the matrix\n",
        "\n",
        "print(np.min(matrix[:, 0]))\n",
        "print(\"Matrix Loaded from File:\")\n",
        "print(coordinates[1])\n"
      ]
    },
    {
      "cell_type": "markdown",
      "source": [
        "MultiGaussian fitting"
      ],
      "metadata": {
        "id": "nMlk0APbe9ZO"
      }
    },
    {
      "cell_type": "code",
      "source": [
        "import numpy as np\n",
        "from sklearn.gaussian_process import GaussianProcessRegressor\n",
        "from sklearn.gaussian_process.kernels import RBF, ConstantKernel as C\n",
        "\n",
        "def fit_gaussian_process(input_array):\n",
        "    \"\"\"\n",
        "    Fit a Gaussian Process model to the provided n-dimensional array.\n",
        "\n",
        "    Args:\n",
        "    - input_array (np.ndarray): The n-dimensional array where the first row contains energy (z-values)\n",
        "                                and the subsequent rows represent the coordinates in n-dimensional space.\n",
        "\n",
        "    Returns:\n",
        "    - gp (GaussianProcessRegressor): The trained Gaussian Process model.\n",
        "    \"\"\"\n",
        "    # Separate the energy (first row) and location data (other rows)\n",
        "    energy_values = input_array[0, :]  # Energy values (z)\n",
        "    location_data = input_array[1:, :].T  # Location data (x, y, ...)\n",
        "\n",
        "    # Define the kernel: we use a product of constant kernel and RBF kernel (Gaussian kernel)\n",
        "    kernel = C(1.0, (1e-4, 1e1)) * RBF(1.0, (1e-4, 1e1))  # Constant * RBF kernel\n",
        "\n",
        "    # Initialize the GaussianProcessRegressor with the kernel\n",
        "    gp = GaussianProcessRegressor(kernel=kernel, n_restarts_optimizer=10)\n",
        "\n",
        "    # Fit the GP model to the data\n",
        "    gp.fit(location_data, energy_values)\n",
        "\n",
        "    return gp\n",
        "\n",
        "def predict_energy(gp, location):\n",
        "    \"\"\"\n",
        "    Predict the energy at a given location using the fitted Gaussian Process model.\n",
        "\n",
        "    Args:\n",
        "    - gp (GaussianProcessRegressor): The trained Gaussian Process model.\n",
        "    - location (np.ndarray): The location for which to predict the energy.\n",
        "\n",
        "    Returns:\n",
        "    - energy (float): The predicted energy at the given location.\n",
        "    \"\"\"\n",
        "    # Ensure the location is in the right shape (1 x n_dim)\n",
        "    location = np.array(location).reshape(1, -1)\n",
        "\n",
        "    # Use the Gaussian Process model to predict the energy at the specified location\n",
        "    energy, _ = gp.predict(location, return_std=True)\n",
        "\n",
        "    return energy[0]  # Return the predicted energy value\n",
        "\n",
        "# Example Usage:\n",
        "# Input: An example n-dimensional array where the first row is energy, and others are coordinates.\n",
        "input_array = np.array([\n",
        "    [1.0, 2.0, 3.0, 4.0],  # Energy (z-values)\n",
        "    [0.0, 1.0, 2.0, 3.0],  # Location 1 (x)\n",
        "    [1.0, 1.5, 2.0, 2.5],  # Location 2 (y)\n",
        "])\n",
        "\n",
        "# Fit the Gaussian Process model to the input data\n",
        "gp_model = fit_gaussian_process(matrix.T)\n",
        "\n",
        "# Predict the energy at a new location (e.g., at location [2.5, 2.0])\n",
        "new_location = [12.53040961,-0.35355502,0.77559776,0,3.25126297,-0.71151855,0,0,31.57864638]\n",
        "\n",
        "predicted_energy = predict_energy(gp_model, new_location)\n",
        "\n",
        "# Output the predicted energy\n",
        "print(f\"Predicted energy at location {new_location}: {predicted_energy}\")\n"
      ],
      "metadata": {
        "id": "gJv6IZOge81U",
        "colab": {
          "base_uri": "https://localhost:8080/"
        },
        "outputId": "fa54a31a-9d7e-41ea-b7f2-6c02bd5bd763"
      },
      "execution_count": 7,
      "outputs": [
        {
          "output_type": "stream",
          "name": "stdout",
          "text": [
            "Predicted energy at location [0, 1, 0, 0, 0, 1, 1, 0, 1]: -0.0004471481029185638\n"
          ]
        },
        {
          "output_type": "stream",
          "name": "stderr",
          "text": [
            "/usr/local/lib/python3.10/dist-packages/sklearn/gaussian_process/kernels.py:452: ConvergenceWarning: The optimal value found for dimension 0 of parameter k1__constant_value is close to the specified upper bound 10.0. Increasing the bound and calling fit again may find a better value.\n",
            "  warnings.warn(\n"
          ]
        }
      ]
    },
    {
      "cell_type": "code",
      "source": [
        "#test energy\n",
        "new_location = [3.403000e+00,7.536000e-01,-5.178000e+00,0.000000e+00,1.902000e+01,-6.320000e+00,0.000000e+00,0.000000e+00,9.908000e+00]\n",
        "\n",
        "predicted_energy = predict_energy(gp_model, new_location)\n",
        "\n",
        "print(f\"Predicted energy at location {new_location}: {predicted_energy}\")"
      ],
      "metadata": {
        "colab": {
          "base_uri": "https://localhost:8080/"
        },
        "id": "rxCuhVSoSxh3",
        "outputId": "05788d7e-9044-43b8-bbc6-7f3c8d50413e"
      },
      "execution_count": 15,
      "outputs": [
        {
          "output_type": "stream",
          "name": "stdout",
          "text": [
            "Predicted energy at location [3.403, 0.7536, -5.178, 0.0, 19.02, -6.32, 0.0, 0.0, 9.908]: -153.57989999870267\n"
          ]
        }
      ]
    },
    {
      "cell_type": "markdown",
      "source": [
        "Fish sworm\n"
      ],
      "metadata": {
        "id": "libmu8-1e3KN"
      }
    },
    {
      "cell_type": "code",
      "source": [
        "import numpy as np\n",
        "\n",
        "class ArtificialFishSwarm:\n",
        "    def __init__(self, objective_function, n_dim, bounds, population_size=50, max_iter=100, step_size=0.1, visual_range=0.5):\n",
        "        self.objective_function = objective_function\n",
        "        self.n_dim = n_dim\n",
        "        self.bounds = bounds  # Bounds shape: (n_dim, 2)\n",
        "        self.population_size = population_size\n",
        "        self.max_iter = max_iter\n",
        "        self.step_size = step_size\n",
        "        self.visual_range = visual_range\n",
        "\n",
        "        # Initialize population (randomly within bounds)\n",
        "        self.population = np.random.uniform(\n",
        "            self.bounds[:, 0], self.bounds[:, 1], (self.population_size, self.n_dim)\n",
        "        )\n",
        "        # Fitness values for each fish\n",
        "        self.fitness = np.array([self.objective_function(ind) for ind in self.population])\n",
        "\n",
        "        # Global best solution\n",
        "        self.best_fish = self.population[np.argmin(self.fitness)]\n",
        "        self.best_fitness = np.min(self.fitness)\n",
        "\n",
        "    def move_fish(self, fish, target):\n",
        "        \"\"\"\n",
        "        Move a fish towards a target fish within the step size.\n",
        "        \"\"\"\n",
        "        direction = target - fish\n",
        "        distance = np.linalg.norm(direction)\n",
        "\n",
        "        if distance > 0:\n",
        "            direction = direction / distance  # Normalize direction\n",
        "\n",
        "        # Move the fish in the direction of the target\n",
        "        new_position = fish + self.step_size * direction\n",
        "\n",
        "        # Clip the new position to remain within bounds\n",
        "        return np.clip(new_position, self.bounds[:, 0], self.bounds[:, 1])\n",
        "\n",
        "    def search_neighborhood(self, fish):\n",
        "        \"\"\"\n",
        "        Search the neighborhood of a fish for a better position.\n",
        "        \"\"\"\n",
        "        best_fish_in_neighborhood = fish\n",
        "        best_fitness_in_neighborhood = self.objective_function(fish)\n",
        "\n",
        "        # Randomly explore the neighborhood\n",
        "        for _ in range(10):  # Arbitrary number of random searches\n",
        "            random_step = np.random.uniform(-self.visual_range, self.visual_range, self.n_dim)\n",
        "            candidate_fish = fish + random_step\n",
        "            candidate_fish = np.clip(candidate_fish, self.bounds[:, 0], self.bounds[:, 1])  # Clip within bounds\n",
        "            candidate_fitness = self.objective_function(candidate_fish)\n",
        "\n",
        "            if candidate_fitness < best_fitness_in_neighborhood:\n",
        "                best_fish_in_neighborhood = candidate_fish\n",
        "                best_fitness_in_neighborhood = candidate_fitness\n",
        "\n",
        "        return best_fish_in_neighborhood\n",
        "\n",
        "    def run(self):\n",
        "        \"\"\"\n",
        "        Run the Artificial Fish Swarm Algorithm to optimize the objective function.\n",
        "        \"\"\"\n",
        "        for iteration in range(self.max_iter):\n",
        "            for i in range(self.population_size):\n",
        "                fish = self.population[i]\n",
        "\n",
        "                # Search the neighborhood for a better position\n",
        "                best_fish_in_neighborhood = self.search_neighborhood(fish)\n",
        "\n",
        "                # Move towards the best position in the neighborhood\n",
        "                new_fish = self.move_fish(fish, best_fish_in_neighborhood)\n",
        "\n",
        "                # Update fitness\n",
        "                new_fitness = self.objective_function(new_fish)\n",
        "\n",
        "                # If the new position is better, update the fish\n",
        "                if new_fitness < self.fitness[i]:\n",
        "                    self.population[i] = new_fish\n",
        "                    self.fitness[i] = new_fitness\n",
        "\n",
        "                    # Update global best solution\n",
        "                    if new_fitness < self.best_fitness:\n",
        "                        self.best_fish = new_fish\n",
        "                        self.best_fitness = new_fitness\n",
        "\n",
        "            # Print progress\n",
        "            print(f\"Iteration {iteration + 1}: Best Fitness = {self.best_fitness}\")\n",
        "\n",
        "        return self.best_fish, self.best_fitness\n"
      ],
      "metadata": {
        "id": "6SaKwqGOeILi"
      },
      "execution_count": 3,
      "outputs": []
    },
    {
      "cell_type": "code",
      "source": [
        "# Example objective function using GP\n",
        "def gp_objective_function(location):\n",
        "    return predict_energy(gp_model, location)\n",
        "\n",
        "# Define the bounds for 9 dimensions (example: [0, 1] for each dimension)\n",
        "n_dim = 9\n",
        "#bounds = np.tile([0, 1], (n_dim, 1))\n",
        "\n",
        "# Create the AFSA object\n",
        "afsa = ArtificialFishSwarm(\n",
        "    objective_function=gp_objective_function,\n",
        "    n_dim=n_dim,\n",
        "    bounds=bounds,\n",
        "    population_size=500,\n",
        "    max_iter=200,\n",
        "    step_size=2,\n",
        "    visual_range=2\n",
        ")\n",
        "\n",
        "# Run the AFSA algorithm\n",
        "best_solution, best_fitness = afsa.run()\n",
        "\n",
        "# Output the results\n",
        "print(\"\\nGlobal Minimum Location:\", best_solution)\n",
        "print(\"Global Minimum Energy:\", best_fitness)\n"
      ],
      "metadata": {
        "id": "aiMGDqzdf-Wt",
        "colab": {
          "base_uri": "https://localhost:8080/"
        },
        "outputId": "b7701b4a-a3bf-4005-b5a4-3046df73f1a1"
      },
      "execution_count": 12,
      "outputs": [
        {
          "output_type": "stream",
          "name": "stdout",
          "text": [
            "Iteration 1: Best Fitness = -11.58353716138792\n",
            "Iteration 2: Best Fitness = -38.33242558601635\n",
            "Iteration 3: Best Fitness = -57.71378579329636\n",
            "Iteration 4: Best Fitness = -73.86439480628147\n",
            "Iteration 5: Best Fitness = -91.82853162378386\n",
            "Iteration 6: Best Fitness = -104.91950774682829\n",
            "Iteration 7: Best Fitness = -113.24095247616405\n",
            "Iteration 8: Best Fitness = -123.1858406897616\n",
            "Iteration 9: Best Fitness = -134.0663882299103\n",
            "Iteration 10: Best Fitness = -148.44855607459235\n",
            "Iteration 11: Best Fitness = -176.76275293564368\n",
            "Iteration 12: Best Fitness = -258.47738490943027\n",
            "Iteration 13: Best Fitness = -353.1121796625028\n",
            "Iteration 14: Best Fitness = -436.18520728428047\n",
            "Iteration 15: Best Fitness = -506.6543415574757\n",
            "Iteration 16: Best Fitness = -551.5059219026144\n",
            "Iteration 17: Best Fitness = -551.5059219026144\n",
            "Iteration 18: Best Fitness = -551.5059219026144\n",
            "Iteration 19: Best Fitness = -551.5059219026144\n",
            "Iteration 20: Best Fitness = -551.5059219026144\n",
            "Iteration 21: Best Fitness = -551.5059219026144\n",
            "Iteration 22: Best Fitness = -551.5059219026144\n",
            "Iteration 23: Best Fitness = -551.5059219026144\n",
            "Iteration 24: Best Fitness = -551.5059219026144\n",
            "Iteration 25: Best Fitness = -551.5059219026144\n",
            "Iteration 26: Best Fitness = -551.5059219026144\n",
            "Iteration 27: Best Fitness = -551.5059219026144\n",
            "Iteration 28: Best Fitness = -568.5676448038823\n",
            "Iteration 29: Best Fitness = -568.5676448038823\n",
            "Iteration 30: Best Fitness = -568.5676448038823\n",
            "Iteration 31: Best Fitness = -568.5676448038823\n",
            "Iteration 32: Best Fitness = -568.5676448038823\n",
            "Iteration 33: Best Fitness = -568.5676448038823\n",
            "Iteration 34: Best Fitness = -568.5676448038823\n",
            "Iteration 35: Best Fitness = -568.5676448038823\n",
            "Iteration 36: Best Fitness = -568.5676448038823\n",
            "Iteration 37: Best Fitness = -568.5676448038823\n",
            "Iteration 38: Best Fitness = -568.5676448038823\n",
            "Iteration 39: Best Fitness = -568.5676448038823\n",
            "Iteration 40: Best Fitness = -568.5676448038823\n",
            "Iteration 41: Best Fitness = -569.898286892497\n",
            "Iteration 42: Best Fitness = -569.898286892497\n",
            "Iteration 43: Best Fitness = -569.898286892497\n",
            "Iteration 44: Best Fitness = -569.898286892497\n",
            "Iteration 45: Best Fitness = -569.898286892497\n",
            "Iteration 46: Best Fitness = -569.898286892497\n",
            "Iteration 47: Best Fitness = -569.898286892497\n",
            "Iteration 48: Best Fitness = -569.898286892497\n",
            "Iteration 49: Best Fitness = -569.898286892497\n",
            "Iteration 50: Best Fitness = -569.898286892497\n",
            "Iteration 51: Best Fitness = -569.898286892497\n",
            "Iteration 52: Best Fitness = -569.898286892497\n",
            "Iteration 53: Best Fitness = -569.898286892497\n",
            "Iteration 54: Best Fitness = -569.898286892497\n",
            "Iteration 55: Best Fitness = -569.898286892497\n",
            "Iteration 56: Best Fitness = -569.898286892497\n",
            "Iteration 57: Best Fitness = -569.898286892497\n",
            "Iteration 58: Best Fitness = -569.898286892497\n",
            "Iteration 59: Best Fitness = -569.898286892497\n",
            "Iteration 60: Best Fitness = -569.898286892497\n",
            "Iteration 61: Best Fitness = -569.898286892497\n",
            "Iteration 62: Best Fitness = -569.898286892497\n",
            "Iteration 63: Best Fitness = -569.898286892497\n",
            "Iteration 64: Best Fitness = -569.898286892497\n",
            "Iteration 65: Best Fitness = -569.898286892497\n",
            "Iteration 66: Best Fitness = -569.898286892497\n",
            "Iteration 67: Best Fitness = -569.898286892497\n",
            "Iteration 68: Best Fitness = -569.898286892497\n",
            "Iteration 69: Best Fitness = -569.898286892497\n",
            "Iteration 70: Best Fitness = -569.898286892497\n",
            "Iteration 71: Best Fitness = -569.898286892497\n",
            "Iteration 72: Best Fitness = -569.898286892497\n",
            "Iteration 73: Best Fitness = -569.898286892497\n",
            "Iteration 74: Best Fitness = -569.898286892497\n",
            "Iteration 75: Best Fitness = -569.898286892497\n",
            "Iteration 76: Best Fitness = -569.898286892497\n",
            "Iteration 77: Best Fitness = -569.898286892497\n",
            "Iteration 78: Best Fitness = -569.898286892497\n",
            "Iteration 79: Best Fitness = -569.898286892497\n",
            "Iteration 80: Best Fitness = -569.898286892497\n",
            "Iteration 81: Best Fitness = -569.898286892497\n",
            "Iteration 82: Best Fitness = -569.898286892497\n",
            "Iteration 83: Best Fitness = -569.898286892497\n",
            "Iteration 84: Best Fitness = -569.898286892497\n",
            "Iteration 85: Best Fitness = -569.898286892497\n",
            "Iteration 86: Best Fitness = -569.898286892497\n",
            "Iteration 87: Best Fitness = -569.898286892497\n",
            "Iteration 88: Best Fitness = -569.898286892497\n",
            "Iteration 89: Best Fitness = -569.898286892497\n",
            "Iteration 90: Best Fitness = -569.898286892497\n",
            "Iteration 91: Best Fitness = -569.898286892497\n",
            "Iteration 92: Best Fitness = -569.898286892497\n",
            "Iteration 93: Best Fitness = -569.898286892497\n",
            "Iteration 94: Best Fitness = -569.898286892497\n",
            "Iteration 95: Best Fitness = -569.898286892497\n",
            "Iteration 96: Best Fitness = -569.898286892497\n",
            "Iteration 97: Best Fitness = -569.898286892497\n",
            "Iteration 98: Best Fitness = -569.898286892497\n",
            "Iteration 99: Best Fitness = -569.898286892497\n",
            "Iteration 100: Best Fitness = -569.898286892497\n",
            "Iteration 101: Best Fitness = -569.898286892497\n",
            "Iteration 102: Best Fitness = -569.898286892497\n",
            "Iteration 103: Best Fitness = -569.898286892497\n",
            "Iteration 104: Best Fitness = -569.898286892497\n",
            "Iteration 105: Best Fitness = -569.898286892497\n",
            "Iteration 106: Best Fitness = -569.898286892497\n",
            "Iteration 107: Best Fitness = -569.898286892497\n",
            "Iteration 108: Best Fitness = -569.898286892497\n",
            "Iteration 109: Best Fitness = -569.898286892497\n",
            "Iteration 110: Best Fitness = -569.898286892497\n",
            "Iteration 111: Best Fitness = -569.898286892497\n",
            "Iteration 112: Best Fitness = -569.898286892497\n",
            "Iteration 113: Best Fitness = -569.898286892497\n",
            "Iteration 114: Best Fitness = -569.898286892497\n",
            "Iteration 115: Best Fitness = -569.898286892497\n",
            "Iteration 116: Best Fitness = -569.898286892497\n",
            "Iteration 117: Best Fitness = -569.898286892497\n",
            "Iteration 118: Best Fitness = -569.898286892497\n",
            "Iteration 119: Best Fitness = -569.898286892497\n",
            "Iteration 120: Best Fitness = -569.898286892497\n",
            "Iteration 121: Best Fitness = -569.898286892497\n",
            "Iteration 122: Best Fitness = -569.898286892497\n",
            "Iteration 123: Best Fitness = -569.898286892497\n",
            "Iteration 124: Best Fitness = -569.898286892497\n",
            "Iteration 125: Best Fitness = -569.898286892497\n",
            "Iteration 126: Best Fitness = -569.898286892497\n",
            "Iteration 127: Best Fitness = -569.898286892497\n",
            "Iteration 128: Best Fitness = -569.898286892497\n",
            "Iteration 129: Best Fitness = -569.898286892497\n",
            "Iteration 130: Best Fitness = -569.898286892497\n",
            "Iteration 131: Best Fitness = -569.898286892497\n",
            "Iteration 132: Best Fitness = -569.898286892497\n",
            "Iteration 133: Best Fitness = -569.898286892497\n",
            "Iteration 134: Best Fitness = -569.898286892497\n",
            "Iteration 135: Best Fitness = -569.898286892497\n",
            "Iteration 136: Best Fitness = -569.898286892497\n",
            "Iteration 137: Best Fitness = -569.898286892497\n",
            "Iteration 138: Best Fitness = -569.898286892497\n",
            "Iteration 139: Best Fitness = -569.898286892497\n",
            "Iteration 140: Best Fitness = -569.898286892497\n",
            "Iteration 141: Best Fitness = -569.898286892497\n",
            "Iteration 142: Best Fitness = -569.898286892497\n",
            "Iteration 143: Best Fitness = -569.898286892497\n",
            "Iteration 144: Best Fitness = -569.898286892497\n",
            "Iteration 145: Best Fitness = -569.898286892497\n",
            "Iteration 146: Best Fitness = -569.898286892497\n",
            "Iteration 147: Best Fitness = -569.898286892497\n",
            "Iteration 148: Best Fitness = -569.898286892497\n",
            "Iteration 149: Best Fitness = -569.898286892497\n",
            "Iteration 150: Best Fitness = -569.898286892497\n",
            "Iteration 151: Best Fitness = -569.898286892497\n",
            "Iteration 152: Best Fitness = -569.898286892497\n",
            "Iteration 153: Best Fitness = -569.898286892497\n",
            "Iteration 154: Best Fitness = -569.898286892497\n",
            "Iteration 155: Best Fitness = -569.898286892497\n",
            "Iteration 156: Best Fitness = -569.898286892497\n",
            "Iteration 157: Best Fitness = -569.898286892497\n",
            "Iteration 158: Best Fitness = -569.898286892497\n",
            "Iteration 159: Best Fitness = -569.898286892497\n",
            "Iteration 160: Best Fitness = -569.898286892497\n",
            "Iteration 161: Best Fitness = -569.898286892497\n",
            "Iteration 162: Best Fitness = -569.898286892497\n",
            "Iteration 163: Best Fitness = -569.898286892497\n",
            "Iteration 164: Best Fitness = -569.898286892497\n",
            "Iteration 165: Best Fitness = -569.898286892497\n",
            "Iteration 166: Best Fitness = -569.898286892497\n",
            "Iteration 167: Best Fitness = -569.898286892497\n",
            "Iteration 168: Best Fitness = -569.898286892497\n",
            "Iteration 169: Best Fitness = -569.898286892497\n",
            "Iteration 170: Best Fitness = -569.898286892497\n",
            "Iteration 171: Best Fitness = -569.898286892497\n",
            "Iteration 172: Best Fitness = -569.898286892497\n",
            "Iteration 173: Best Fitness = -569.898286892497\n",
            "Iteration 174: Best Fitness = -569.898286892497\n",
            "Iteration 175: Best Fitness = -569.898286892497\n",
            "Iteration 176: Best Fitness = -569.898286892497\n",
            "Iteration 177: Best Fitness = -569.898286892497\n",
            "Iteration 178: Best Fitness = -569.898286892497\n",
            "Iteration 179: Best Fitness = -569.898286892497\n",
            "Iteration 180: Best Fitness = -569.898286892497\n",
            "Iteration 181: Best Fitness = -569.898286892497\n",
            "Iteration 182: Best Fitness = -569.898286892497\n",
            "Iteration 183: Best Fitness = -569.898286892497\n",
            "Iteration 184: Best Fitness = -569.898286892497\n",
            "Iteration 185: Best Fitness = -569.898286892497\n",
            "Iteration 186: Best Fitness = -569.898286892497\n",
            "Iteration 187: Best Fitness = -569.898286892497\n",
            "Iteration 188: Best Fitness = -569.898286892497\n",
            "Iteration 189: Best Fitness = -569.898286892497\n",
            "Iteration 190: Best Fitness = -569.898286892497\n",
            "Iteration 191: Best Fitness = -569.898286892497\n",
            "Iteration 192: Best Fitness = -569.898286892497\n",
            "Iteration 193: Best Fitness = -569.898286892497\n",
            "Iteration 194: Best Fitness = -569.898286892497\n",
            "Iteration 195: Best Fitness = -569.898286892497\n",
            "Iteration 196: Best Fitness = -569.898286892497\n",
            "Iteration 197: Best Fitness = -569.898286892497\n",
            "Iteration 198: Best Fitness = -569.898286892497\n",
            "Iteration 199: Best Fitness = -569.898286892497\n",
            "Iteration 200: Best Fitness = -569.898286892497\n",
            "\n",
            "Global Minimum Location: [12.53040961 -0.35355502  0.77559776  0.          3.25126297 -0.71151855\n",
            "  0.          0.         31.57864638]\n",
            "Global Minimum Energy: -569.898286892497\n"
          ]
        }
      ]
    },
    {
      "cell_type": "code",
      "source": [
        "import numpy as np\n",
        "from sklearn.gaussian_process import GaussianProcessRegressor\n",
        "from sklearn.gaussian_process.kernels import RBF, ConstantKernel as C\n",
        "from scipy.optimize import minimize\n",
        "\n",
        "\n",
        "\n",
        "# Step 3: Define the objective function for optimization\n",
        "def objective_function(location, gp):\n",
        "    \"\"\"\n",
        "    Objective function for optimization. Returns the energy value at a given location.\n",
        "\n",
        "    Args:\n",
        "    - location (list or np.ndarray): The location for which the energy needs to be minimized.\n",
        "    - gp (GaussianProcessRegressor): The trained Gaussian Process model.\n",
        "\n",
        "    Returns:\n",
        "    - float: The energy value (to minimize).\n",
        "    \"\"\"\n",
        "    return predict_energy(gp, location)\n",
        "\n",
        "# Define the bounds for optimization as a list of tuples\n",
        "opt_bounds = [tuple(b) for b in bounds]\n",
        "\n",
        "# Generate uniformly distributed starting points\n",
        "num_starting_points = 2000\n",
        "starting_points = np.array([\n",
        "    [np.random.uniform(b[0], b[1]) for b in opt_bounds]\n",
        "    for _ in range(num_starting_points)\n",
        "])\n",
        "\n",
        "# Perform optimization from each starting point\n",
        "optimization_results = []\n",
        "for start in starting_points:\n",
        "    res = minimize(\n",
        "        objective_function,\n",
        "        x0=start,\n",
        "        args=(gp_model,),\n",
        "        bounds=opt_bounds,\n",
        "        method='L-BFGS-B'\n",
        "    )\n",
        "    optimization_results.append(res)\n",
        "\n",
        "# Extract the best result\n",
        "best_result = min(optimization_results, key=lambda r: r.fun)\n",
        "\n",
        "# Output results\n",
        "print(\"Optimization Results:\")\n",
        "print(f\"Optimal location: {best_result.x}\")\n",
        "print(f\"Minimum energy: {best_result.fun}\")"
      ],
      "metadata": {
        "colab": {
          "base_uri": "https://localhost:8080/"
        },
        "id": "l9WrEGg72Oy-",
        "outputId": "f748301b-227f-45eb-a9b7-39488b3ae14f"
      },
      "execution_count": null,
      "outputs": [
        {
          "output_type": "stream",
          "name": "stdout",
          "text": [
            "Optimization Results:\n",
            "Optimal location: [ 1.37957080e+01 -9.64959533e-03 -7.45072744e+00  0.00000000e+00\n",
            "  5.76440553e+00 -4.25801190e-03  0.00000000e+00  0.00000000e+00\n",
            "  2.82552318e+01]\n",
            "Minimum energy: -185.75886381702537\n"
          ]
        }
      ]
    },
    {
      "cell_type": "code",
      "source": [
        "# Generate uniformly distributed starting points\n",
        "num_starting_points = 2500\n",
        "starting_points = np.array([\n",
        "    [np.random.uniform(b[0], b[1]) for b in opt_bounds]\n",
        "    for _ in range(num_starting_points)\n",
        "])\n",
        "\n",
        "# Perform optimization from each starting point\n",
        "optimization_results = []\n",
        "for start in starting_points:\n",
        "    res = minimize(\n",
        "        objective_function,\n",
        "        x0=start,\n",
        "        args=(gp_model,),\n",
        "        bounds=opt_bounds,\n",
        "        method='L-BFGS-B'\n",
        "    )\n",
        "    optimization_results.append(res)\n",
        "\n",
        "# Extract the best result\n",
        "best_result = min(optimization_results, key=lambda r: r.fun)\n",
        "\n",
        "# Output results\n",
        "print(\"Optimization Results:\")\n",
        "print(f\"Optimal location: {best_result.x}\")\n",
        "print(f\"Minimum energy: {best_result.fun}\")"
      ],
      "metadata": {
        "id": "jNwH7bp3XrRj",
        "outputId": "da4ceaab-f0ab-4e81-f0f5-138d49bd45a3",
        "colab": {
          "base_uri": "https://localhost:8080/"
        }
      },
      "execution_count": null,
      "outputs": [
        {
          "output_type": "stream",
          "name": "stdout",
          "text": [
            "Optimization Results:\n",
            "Optimal location: [ 4.29722043  0.40480062 -1.04282335  0.         14.65993327  0.13888433\n",
            "  0.          0.         12.72315761]\n",
            "Minimum energy: -220.33683141910095\n"
          ]
        }
      ]
    },
    {
      "cell_type": "code",
      "source": [
        "# Generate uniformly distributed starting points\n",
        "num_starting_points = 3000\n",
        "starting_points = np.array([\n",
        "    [np.random.uniform(b[0], b[1]) for b in opt_bounds]\n",
        "    for _ in range(num_starting_points)\n",
        "])\n",
        "\n",
        "# Perform optimization from each starting point\n",
        "optimization_results = []\n",
        "for start in starting_points:\n",
        "    res = minimize(\n",
        "        objective_function,\n",
        "        x0=start,\n",
        "        args=(gp_model,),\n",
        "        bounds=opt_bounds,\n",
        "        method='L-BFGS-B'\n",
        "    )\n",
        "    optimization_results.append(res)\n",
        "\n",
        "# Extract the best result\n",
        "best_result = min(optimization_results, key=lambda r: r.fun)\n",
        "\n",
        "# Output results\n",
        "print(\"Optimization Results:\")\n",
        "print(f\"Optimal location: {best_result.x}\")\n",
        "print(f\"Minimum energy: {best_result.fun}\")"
      ],
      "metadata": {
        "id": "iTkhwWWUZw3D",
        "outputId": "fc219018-afd8-4252-d0d9-de76e319384e",
        "colab": {
          "base_uri": "https://localhost:8080/"
        }
      },
      "execution_count": null,
      "outputs": [
        {
          "output_type": "stream",
          "name": "stdout",
          "text": [
            "Optimization Results:\n",
            "Optimal location: [ 5.90378772 -0.07029669  0.73209729  0.         25.76122202 -0.07140874\n",
            "  0.          0.         16.81927526]\n",
            "Minimum energy: -263.14753768202024\n"
          ]
        }
      ]
    },
    {
      "cell_type": "code",
      "source": [
        "# Generate uniformly distributed starting points\n",
        "num_starting_points = 4000\n",
        "starting_points = np.array([\n",
        "    [np.random.uniform(b[0], b[1]) for b in opt_bounds]\n",
        "    for _ in range(num_starting_points)\n",
        "])\n",
        "\n",
        "# Perform optimization from each starting point\n",
        "optimization_results = []\n",
        "for start in starting_points:\n",
        "    res = minimize(\n",
        "        objective_function,\n",
        "        x0=start,\n",
        "        args=(gp_model,),\n",
        "        bounds=opt_bounds,\n",
        "        method='L-BFGS-B'\n",
        "    )\n",
        "    optimization_results.append(res)\n",
        "\n",
        "# Extract the best result\n",
        "best_result = min(optimization_results, key=lambda r: r.fun)\n",
        "\n",
        "# Output results\n",
        "print(\"Optimization Results:\")\n",
        "print(f\"Optimal location: {best_result.x}\")\n",
        "print(f\"Minimum energy: {best_result.fun}\")"
      ],
      "metadata": {
        "id": "AFoHuJE5Zy33",
        "outputId": "77b77f48-d0ac-4a62-d419-df6d3d39cf29",
        "colab": {
          "base_uri": "https://localhost:8080/"
        }
      },
      "execution_count": null,
      "outputs": [
        {
          "output_type": "stream",
          "name": "stdout",
          "text": [
            "Optimization Results:\n",
            "Optimal location: [ 5.90378559 -0.07026526  0.7321278   0.         25.76125543 -0.07139537\n",
            "  0.          0.         16.81926775]\n",
            "Minimum energy: -263.1475376783168\n"
          ]
        }
      ]
    },
    {
      "cell_type": "code",
      "source": [
        "# Generate uniformly distributed starting points\n",
        "num_starting_points = 5000\n",
        "starting_points = np.array([\n",
        "    [np.random.uniform(b[0], b[1]) for b in opt_bounds]\n",
        "    for _ in range(num_starting_points)\n",
        "])\n",
        "\n",
        "# Perform optimization from each starting point\n",
        "optimization_results = []\n",
        "for start in starting_points:\n",
        "    res = minimize(\n",
        "        objective_function,\n",
        "        x0=start,\n",
        "        args=(gp_model,),\n",
        "        bounds=opt_bounds,\n",
        "        method='L-BFGS-B'\n",
        "    )\n",
        "    optimization_results.append(res)\n",
        "\n",
        "# Extract the best result\n",
        "best_result = min(optimization_results, key=lambda r: r.fun)\n",
        "\n",
        "# Output results\n",
        "print(\"Optimization Results:\")\n",
        "print(f\"Optimal location: {best_result.x}\")\n",
        "print(f\"Minimum energy: {best_result.fun}\")\n",
        "print(f\"Number of iterations: {best_result.nit}\")"
      ],
      "metadata": {
        "id": "gXkT4QyvZ_mc",
        "outputId": "769212ed-3cdd-4659-82b5-fd2c9b02f2ed",
        "colab": {
          "base_uri": "https://localhost:8080/"
        }
      },
      "execution_count": null,
      "outputs": [
        {
          "output_type": "stream",
          "name": "stdout",
          "text": [
            "Optimization Results:\n",
            "Optimal location: [ 5.9037528  -0.07028767  0.73208949  0.         25.76121532 -0.07139514\n",
            "  0.          0.         16.81921446]\n",
            "Minimum energy: -263.1472408711334\n",
            "Number of iterations: 14\n"
          ]
        }
      ]
    },
    {
      "cell_type": "code",
      "source": [
        "# check\n",
        "predict_energy(gp_model, [5.90376736, -0.07028257, 0.73211419, 0., 25.76125662, -0.0714175, 0., 0., 16.81924662])"
      ],
      "metadata": {
        "id": "1C3XlH3Ddvr_",
        "outputId": "4b592380-b223-4cc5-933f-d31a38695fc3",
        "colab": {
          "base_uri": "https://localhost:8080/"
        }
      },
      "execution_count": null,
      "outputs": [
        {
          "output_type": "execute_result",
          "data": {
            "text/plain": [
              "-263.14724088852665"
            ]
          },
          "metadata": {},
          "execution_count": 8
        }
      ]
    },
    {
      "cell_type": "code",
      "source": [],
      "metadata": {
        "id": "coBYXDiqi6xo"
      },
      "execution_count": null,
      "outputs": []
    },
    {
      "cell_type": "code",
      "source": [
        "# Generate uniformly distributed starting points\n",
        "num_starting_points = 6000\n",
        "starting_points = np.array([\n",
        "    [np.random.uniform(b[0], b[1]) for b in opt_bounds]\n",
        "    for _ in range(num_starting_points)\n",
        "])\n",
        "\n",
        "# Perform optimization from each starting point\n",
        "optimization_results = []\n",
        "for start in starting_points:\n",
        "    res = minimize(\n",
        "        objective_function,\n",
        "        x0=start,\n",
        "        args=(gp_model,),\n",
        "        bounds=opt_bounds,\n",
        "        method='L-BFGS-B'\n",
        "    )\n",
        "    optimization_results.append(res)\n",
        "\n",
        "# Extract the best result\n",
        "best_result = min(optimization_results, key=lambda r: r.fun)\n",
        "\n",
        "# Output results\n",
        "print(\"Optimization Results:\")\n",
        "print(f\"Optimal location: {best_result.x}\")\n",
        "print(f\"Minimum energy: {best_result.fun}\")"
      ],
      "metadata": {
        "id": "wtrVn7NqaB1g",
        "outputId": "e0a7ceeb-fe63-4487-accc-caab9944373a",
        "colab": {
          "base_uri": "https://localhost:8080/"
        }
      },
      "execution_count": null,
      "outputs": [
        {
          "output_type": "stream",
          "name": "stdout",
          "text": [
            "Optimization Results:\n",
            "Optimal location: [ 6.28298183e+00 -1.34479926e-02  7.89073649e-01  0.00000000e+00\n",
            "  3.83076179e+01 -8.27757540e-03  0.00000000e+00  0.00000000e+00\n",
            "  9.42173910e+00]\n",
            "Minimum energy: -245.6800416879941\n"
          ]
        }
      ]
    },
    {
      "cell_type": "code",
      "source": [
        "# check\n",
        "predict_energy(gp_model, [ 6.28298183e+00, -1.34479926e-02 , 7.89073649e-01 , 0.00000000e+00,\n",
        "  3.83076179e+01, -8.27757540e-03,  0.00000000e+00,  0.00000000e+00,\n",
        "  9.42173910e+00])"
      ],
      "metadata": {
        "id": "XxYIwIdhaErB",
        "outputId": "c623d3fb-c4f5-45d2-da52-eea8d2fe2c77",
        "colab": {
          "base_uri": "https://localhost:8080/"
        }
      },
      "execution_count": null,
      "outputs": [
        {
          "output_type": "execute_result",
          "data": {
            "text/plain": [
              "-245.67946715265995"
            ]
          },
          "metadata": {},
          "execution_count": 21
        }
      ]
    },
    {
      "cell_type": "markdown",
      "source": [],
      "metadata": {
        "id": "D1vCCpoVV_cr"
      }
    },
    {
      "cell_type": "markdown",
      "source": [
        "Extra gaussian test"
      ],
      "metadata": {
        "id": "pTpQKFHuV_N_"
      }
    },
    {
      "cell_type": "code",
      "source": [
        "import numpy as np\n",
        "from sklearn.gaussian_process import GaussianProcessRegressor\n",
        "from sklearn.gaussian_process.kernels import RBF, ConstantKernel as C\n",
        "\n",
        "def fit_gaussian_process(input_array):\n",
        "    \"\"\"\n",
        "    Fit a Gaussian Process model to the provided n-dimensional array.\n",
        "\n",
        "    Args:\n",
        "    - input_array (np.ndarray): The n-dimensional array where the first row contains energy (z-values)\n",
        "                                and the subsequent rows represent the coordinates in n-dimensional space.\n",
        "\n",
        "    Returns:\n",
        "    - gp (GaussianProcessRegressor): The trained Gaussian Process model.\n",
        "    \"\"\"\n",
        "    # Separate the energy (first row) and location data (other rows)\n",
        "    energy_values = input_array[0, :]  # Energy values (z)\n",
        "    location_data = input_array[1:, :].T  # Location data (x, y, ...)\n",
        "\n",
        "    # Define the kernel: we use a product of constant kernel and RBF kernel (Gaussian kernel)\n",
        "    kernel = C(1.0, (1e-4, 1e2)) * RBF(1.0, (1e-4, 1e2))  # Constant * RBF kernel\n",
        "\n",
        "    # Initialize the GaussianProcessRegressor with the kernel\n",
        "    gp = GaussianProcessRegressor(kernel=kernel, n_restarts_optimizer=10)\n",
        "\n",
        "    # Fit the GP model to the data\n",
        "    gp.fit(location_data, energy_values)\n",
        "\n",
        "    return gp\n",
        "\n",
        "def predict_energy(gp, location):\n",
        "    \"\"\"\n",
        "    Predict the energy at a given location using the fitted Gaussian Process model.\n",
        "\n",
        "    Args:\n",
        "    - gp (GaussianProcessRegressor): The trained Gaussian Process model.\n",
        "    - location (np.ndarray): The location for which to predict the energy.\n",
        "\n",
        "    Returns:\n",
        "    - energy (float): The predicted energy at the given location.\n",
        "    \"\"\"\n",
        "    # Ensure the location is in the right shape (1 x n_dim)\n",
        "    location = np.array(location).reshape(1, -1)\n",
        "\n",
        "    # Use the Gaussian Process model to predict the energy at the specified location\n",
        "    energy, _ = gp.predict(location, return_std=True)\n",
        "\n",
        "    return energy[0]  # Return the predicted energy value\n",
        "\n",
        "# Example Usage:\n",
        "# Input: An example n-dimensional array where the first row is energy, and others are coordinates.\n",
        "input_array = np.array([\n",
        "    [1.0, 2.0, 3.0, 4.0],  # Energy (z-values)\n",
        "    [0.0, 1.0, 2.0, 3.0],  # Location 1 (x)\n",
        "    [1.0, 1.5, 2.0, 2.5],  # Location 2 (y)\n",
        "])\n",
        "\n",
        "# Fit the Gaussian Process model to the input data\n",
        "gp_model2 = fit_gaussian_process(matrix.T)\n",
        "\n",
        "# Predict the energy at a new location (e.g., at location [2.5, 2.0])\n",
        "new_location = [12.53040961,-0.35355502,0.77559776,0,3.25126297,-0.71151855,0,0,31.57864638]\n",
        "\n",
        "predicted_energy = predict_energy(gp_model2, new_location)\n",
        "\n",
        "# Output the predicted energy\n",
        "print(f\"Predicted energy at location {new_location}: {predicted_energy}\")\n"
      ],
      "metadata": {
        "id": "J8Nys3whekhK",
        "colab": {
          "base_uri": "https://localhost:8080/"
        },
        "outputId": "75a5a3ea-8108-4648-827f-aada6bfe7aca"
      },
      "execution_count": 19,
      "outputs": [
        {
          "output_type": "stream",
          "name": "stdout",
          "text": [
            "Predicted energy at location [12.53040961, -0.35355502, 0.77559776, 0, 3.25126297, -0.71151855, 0, 0, 31.57864638]: -571.6800185239982\n"
          ]
        },
        {
          "output_type": "stream",
          "name": "stderr",
          "text": [
            "/usr/local/lib/python3.10/dist-packages/sklearn/gaussian_process/kernels.py:452: ConvergenceWarning: The optimal value found for dimension 0 of parameter k1__constant_value is close to the specified upper bound 100.0. Increasing the bound and calling fit again may find a better value.\n",
            "  warnings.warn(\n"
          ]
        }
      ]
    },
    {
      "cell_type": "code",
      "source": [
        "# Example objective function using GP\n",
        "def gp_objective_function(location):\n",
        "    return predict_energy(gp_model2, location)\n",
        "\n",
        "# Define the bounds for 9 dimensions (example: [0, 1] for each dimension)\n",
        "n_dim = 9\n",
        "#bounds = np.tile([0, 1], (n_dim, 1))\n",
        "\n",
        "# Create the AFSA object\n",
        "afsa = ArtificialFishSwarm(\n",
        "    objective_function=gp_objective_function,\n",
        "    n_dim=n_dim,\n",
        "    bounds=bounds,\n",
        "    population_size=1000,\n",
        "    max_iter=50,\n",
        "    step_size=2,\n",
        "    visual_range=2\n",
        ")\n",
        "\n",
        "# Run the AFSA algorithm\n",
        "best_solution, best_fitness = afsa.run()\n",
        "\n",
        "# Output the results\n",
        "print(\"\\nGlobal Minimum Location:\", best_solution)\n",
        "print(\"Global Minimum Energy:\", best_fitness)\n"
      ],
      "metadata": {
        "colab": {
          "base_uri": "https://localhost:8080/"
        },
        "id": "8J0FHpOKWPOq",
        "outputId": "eec5d82e-a1e4-4249-c60e-95997c284132"
      },
      "execution_count": 24,
      "outputs": [
        {
          "output_type": "stream",
          "name": "stdout",
          "text": [
            "Iteration 1: Best Fitness = -7.590038714127608\n",
            "Iteration 2: Best Fitness = -18.601212890121687\n",
            "Iteration 3: Best Fitness = -29.974121308839827\n",
            "Iteration 4: Best Fitness = -55.93054009557714\n",
            "Iteration 5: Best Fitness = -82.68012056924042\n",
            "Iteration 6: Best Fitness = -109.9570783661188\n",
            "Iteration 7: Best Fitness = -129.54823565137556\n",
            "Iteration 8: Best Fitness = -129.54823565137556\n",
            "Iteration 9: Best Fitness = -129.54823565137556\n",
            "Iteration 10: Best Fitness = -129.54823565137556\n",
            "Iteration 11: Best Fitness = -147.11765362065134\n",
            "Iteration 12: Best Fitness = -147.11765362065134\n",
            "Iteration 13: Best Fitness = -154.80106929903243\n",
            "Iteration 14: Best Fitness = -154.80106929903243\n",
            "Iteration 15: Best Fitness = -154.80106929903243\n",
            "Iteration 16: Best Fitness = -154.80106929903243\n",
            "Iteration 17: Best Fitness = -154.80106929903243\n",
            "Iteration 18: Best Fitness = -154.80106929903243\n",
            "Iteration 19: Best Fitness = -154.80106929903243\n",
            "Iteration 20: Best Fitness = -154.80106929903243\n",
            "Iteration 21: Best Fitness = -154.80106929903243\n",
            "Iteration 22: Best Fitness = -154.80106929903243\n",
            "Iteration 23: Best Fitness = -160.07849049040004\n",
            "Iteration 24: Best Fitness = -171.76592702060992\n",
            "Iteration 25: Best Fitness = -171.76592702060992\n",
            "Iteration 26: Best Fitness = -171.76592702060992\n",
            "Iteration 27: Best Fitness = -171.76592702060992\n",
            "Iteration 28: Best Fitness = -171.76592702060992\n",
            "Iteration 29: Best Fitness = -171.76592702060992\n",
            "Iteration 30: Best Fitness = -171.76592702060992\n",
            "Iteration 31: Best Fitness = -171.76592702060992\n",
            "Iteration 32: Best Fitness = -171.76592702060992\n",
            "Iteration 33: Best Fitness = -172.45452756460537\n",
            "Iteration 34: Best Fitness = -172.45452756460537\n",
            "Iteration 35: Best Fitness = -172.45452756460537\n",
            "Iteration 36: Best Fitness = -172.45452756460537\n",
            "Iteration 37: Best Fitness = -172.45452756460537\n",
            "Iteration 38: Best Fitness = -172.45452756460537\n",
            "Iteration 39: Best Fitness = -172.6311009913421\n",
            "Iteration 40: Best Fitness = -173.685545371267\n",
            "Iteration 41: Best Fitness = -176.8432018564226\n",
            "Iteration 42: Best Fitness = -176.8432018564226\n",
            "Iteration 43: Best Fitness = -176.8432018564226\n",
            "Iteration 44: Best Fitness = -176.8432018564226\n",
            "Iteration 45: Best Fitness = -176.8432018564226\n",
            "Iteration 46: Best Fitness = -176.8432018564226\n",
            "Iteration 47: Best Fitness = -176.8432018564226\n",
            "Iteration 48: Best Fitness = -176.8432018564226\n",
            "Iteration 49: Best Fitness = -176.8432018564226\n",
            "Iteration 50: Best Fitness = -176.8432018564226\n",
            "\n",
            "Global Minimum Location: [ 1.25965792e+01 -7.91633357e-02 -1.62567550e-01  0.00000000e+00\n",
            "  8.77981628e+01 -1.93248537e-01  0.00000000e+00  0.00000000e+00\n",
            "  4.48459886e+00]\n",
            "Global Minimum Energy: -176.8432018564226\n"
          ]
        }
      ]
    }
  ]
}